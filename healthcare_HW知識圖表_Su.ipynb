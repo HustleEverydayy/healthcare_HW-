{
 "cells": [
  {
   "cell_type": "code",
   "execution_count": 1,
   "metadata": {
    "id": "F25P-N_DmEBK"
   },
   "outputs": [],
   "source": [
    "\n",
    "from langchain. graphs import Neo4jGraph\n",
    "import os\n",
    "os.environ[\"NEO4J_URI\"] = \"bolt://localhost:7687\"\n",
    "os.environ[\"NEO4J_USERNAME\"] = \"neo4j\"\n",
    "os.environ[\"NEO4J_PASSWORD\"] = \"11111111\"\n",
    "\n",
    "graph = Neo4jGraph()"
   ]
  },
  {
   "cell_type": "code",
   "execution_count": 2,
   "metadata": {
    "id": "K589QK8WUcPo"
   },
   "outputs": [],
   "source": [
    "#load the dataset\n",
    "\n",
    "import requests\n",
    "import pandas as pd\n",
    "\n",
    "# Define the URL and parameters\n",
    "url = \"https://datasets-server.huggingface.co/rows\"\n",
    "params = {\n",
    "    \"dataset\": \"Nicolybgs/healthcare_data\",\n",
    "    \"config\": \"default\",\n",
    "    \"split\": \"train\",\n",
    "    \"offset\": 0,\n",
    "    \"length\": 100\n",
    "}\n",
    "\n",
    "# Make the GET request\n",
    "response = requests.get(url, params=params)\n",
    "\n",
    "# Check if the request was successful\n",
    "if response.status_code == 200:\n",
    "    # Parse the JSON response\n",
    "    data = response.json()\n",
    "\n",
    "    # Convert the JSON data to a Pandas DataFrame\n",
    "    rows = data.get('rows', [])\n",
    "    df = pd.DataFrame([row['row'] for row in rows])"
   ]
  },
  {
   "cell_type": "code",
   "execution_count": 3,
   "metadata": {
    "id": "-bV8nHwimqS7"
   },
   "outputs": [],
   "source": [
    "\n",
    "import pandas as pd\n",
    "from langchain.docstore.document import Document\n",
    "\n",
    "\n",
    "# Define the function to format each row\n",
    "def format_row(row):\n",
    "    return (\n",
    "        f\"Available Extra Rooms in Hospital: {row['Available Extra Rooms in Hospital']}, \"\n",
    "        f\"Department: {row['Department']}, Ward_Facility_Code: {row['Ward_Facility_Code']}, \"\n",
    "        f\"Doctor Name: {row['doctor_name']}, Staff Available: {row['staff_available']}, \"\n",
    "        f\"Patient ID: {row['patientid']}, Age: {row['Age']}, Gender: {row['gender']}, \"\n",
    "        f\"Type of Admission: {row['Type of Admission']}, Severity of Illness: {row['Severity of Illness']}, \"\n",
    "        f\"Health Conditions: {row['health_conditions']}, Visitors with Patient: {row['Visitors with Patient']}, \"\n",
    "        f\"Insurance: {row['Insurance']}, Admission Deposit: {row['Admission_Deposit']}, \"\n",
    "        f\"Stay (in days): {row['Stay (in days)']}\\n\\n\"\n",
    "    ).lower()\n",
    "\n",
    "# Apply the function to each row and create a new column with the formatted text\n",
    "df['formatted_text'] = df.apply(format_row, axis=1)\n",
    "\n",
    "# Convert the formatted text into a list of Document objects\n",
    "documents = []\n",
    "for text in df['formatted_text']:\n",
    "    document = Document(page_content=text)\n",
    "    documents.append(document)"
   ]
  },
  {
   "cell_type": "code",
   "execution_count": 4,
   "metadata": {
    "id": "kpGkdMyuUmAn"
   },
   "outputs": [],
   "source": [
    "from langchain_text_splitters import TokenTextSplitter\n",
    "text_splitter = TokenTextSplitter(chunk_size=512, chunk_overlap=24)\n",
    "documents = text_splitter.split_documents(documents)"
   ]
  },
  {
   "cell_type": "code",
   "execution_count": 5,
   "metadata": {
    "id": "Gu7aaanyU2NW"
   },
   "outputs": [],
   "source": [
    "\n",
    "from langchain_community.llms import Ollama\n",
    "\n",
    "llm = Ollama(model=\"llama3\")"
   ]
  },
  {
   "cell_type": "code",
   "execution_count": 6,
   "metadata": {
    "id": "wCvmpkhnyL0R"
   },
   "outputs": [],
   "source": [
    "from langchain_experimental.graph_transformers import LLMGraphTransformer\n",
    "llm_transformer = LLMGraphTransformer(llm=llm)\n",
    "# Extract graph data\n",
    "graph_documents = llm_transformer.convert_to_graph_documents(documents)\n",
    "# Store to neo4j\n",
    "graph.add_graph_documents(\n",
    "  graph_documents, \n",
    "  baseEntityLabel=True, \n",
    "  include_source=True\n",
    ")"
   ]
  },
  {
   "cell_type": "code",
   "execution_count": 7,
   "metadata": {
    "id": "mnBM5jSDNTP7"
   },
   "outputs": [
    {
     "name": "stderr",
     "output_type": "stream",
     "text": [
      "c:\\Users\\User\\anaconda3\\envs\\healthcare\\lib\\site-packages\\sentence_transformers\\cross_encoder\\CrossEncoder.py:11: TqdmWarning: IProgress not found. Please update jupyter and ipywidgets. See https://ipywidgets.readthedocs.io/en/stable/user_install.html\n",
      "  from tqdm.autonotebook import tqdm, trange\n"
     ]
    }
   ],
   "source": [
    "\n",
    "#load the embedding model\n",
    "from langchain_huggingface import HuggingFaceEmbeddings\n",
    "embeddings = HuggingFaceEmbeddings(model_name  = \"BAAI/bge-base-en-v1.5\")"
   ]
  },
  {
   "cell_type": "code",
   "execution_count": 8,
   "metadata": {},
   "outputs": [],
   "source": [
    "\n",
    "from langchain_community.vectorstores import Neo4jVector\n",
    "vector_index = Neo4jVector.from_existing_graph(\n",
    "    embeddings,\n",
    "    search_type=\"hybrid\",\n",
    "    node_label=\"Document\",\n",
    "    text_node_properties=[\"text\"],\n",
    "    embedding_node_property=\"embedding\"\n",
    ")"
   ]
  },
  {
   "cell_type": "code",
   "execution_count": 9,
   "metadata": {},
   "outputs": [],
   "source": [
    "from langchain.chains import RetrievalQA\n",
    "\n",
    "qa_chain = RetrievalQA.from_chain_type(\n",
    "    llm, retriever=vector_index.as_retriever()\n",
    ")"
   ]
  },
  {
   "cell_type": "code",
   "execution_count": 10,
   "metadata": {},
   "outputs": [
    {
     "name": "stdout",
     "output_type": "stream",
     "text": [
      "Running on local URL:  http://127.0.0.1:7860\n",
      "\n",
      "To create a public link, set `share=True` in `launch()`.\n"
     ]
    },
    {
     "data": {
      "text/html": [
       "<div><iframe src=\"http://127.0.0.1:7860/\" width=\"100%\" height=\"500\" allow=\"autoplay; camera; microphone; clipboard-read; clipboard-write;\" frameborder=\"0\" allowfullscreen></iframe></div>"
      ],
      "text/plain": [
       "<IPython.core.display.HTML object>"
      ]
     },
     "metadata": {},
     "output_type": "display_data"
    },
    {
     "data": {
      "text/plain": []
     },
     "execution_count": 10,
     "metadata": {},
     "output_type": "execute_result"
    },
    {
     "name": "stderr",
     "output_type": "stream",
     "text": [
      "c:\\Users\\User\\anaconda3\\envs\\healthcare\\lib\\site-packages\\langchain_core\\_api\\deprecation.py:139: LangChainDeprecationWarning: The method `Chain.__call__` was deprecated in langchain 0.1.0 and will be removed in 0.3.0. Use invoke instead.\n",
      "  warn_deprecated(\n"
     ]
    }
   ],
   "source": [
    "import gradio as gr\n",
    "\n",
    "# Define the function for querying patient details\n",
    "def query_patient_details(query):\n",
    "    try:\n",
    "        result = qa_chain({\"query\": query})\n",
    "        return result[\"result\"]\n",
    "    except Exception as e:\n",
    "        return f\"Error: {str(e)}\"\n",
    "\n",
    "# Create a Gradio interface\n",
    "interface = gr.Interface(\n",
    "    fn=query_patient_details,        # Function to call\n",
    "    inputs=gr.Textbox(label=\"Enter your question\"),  # Input textbox\n",
    "    outputs=gr.Textbox(label=\"Answer\")   # Output textbox\n",
    ")\n",
    "\n",
    "# Launch the interface\n",
    "interface.launch()"
   ]
  },
  {
   "cell_type": "code",
   "execution_count": null,
   "metadata": {},
   "outputs": [],
   "source": []
  }
 ],
 "metadata": {
  "colab": {
   "provenance": []
  },
  "kernelspec": {
   "display_name": "Python 3 (ipykernel)",
   "language": "python",
   "name": "python3"
  },
  "language_info": {
   "codemirror_mode": {
    "name": "ipython",
    "version": 3
   },
   "file_extension": ".py",
   "mimetype": "text/x-python",
   "name": "python",
   "nbconvert_exporter": "python",
   "pygments_lexer": "ipython3",
   "version": "3.9.19"
  }
 },
 "nbformat": 4,
 "nbformat_minor": 4
}
